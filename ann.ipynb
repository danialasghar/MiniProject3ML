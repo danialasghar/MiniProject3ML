{
 "cells": [
  {
   "cell_type": "code",
   "execution_count": 365,
   "id": "8437a2d7-6980-4c62-9c7c-6ec43476a247",
   "metadata": {},
   "outputs": [],
   "source": [
    "import numpy as np\n",
    "import matplotlib.pyplot as plt\n",
    "import random"
   ]
  },
  {
   "cell_type": "code",
   "execution_count": 366,
   "id": "6bba92cf-5c02-4a77-983a-c42ea6e22132",
   "metadata": {},
   "outputs": [],
   "source": [
    "#Load the testing and training data sets and transpose them to be shape x n_samples\n",
    "X_train = np.loadtxt(\"input.csv\", delimiter=\",\").T\n",
    "Y_train = np.loadtxt(\"labels.csv\", delimiter=\",\").T\n",
    "X_test = np.loadtxt(\"xtest.csv\",delimiter=\",\").T\n",
    "Y_test = np.loadtxt(\"ytest.csv\",delimiter=\",\").T\n",
    "X2_test = np.loadtxt(\"x2test.csv\", delimiter=\",\").T\n",
    "Y2_test = np.loadtxt(\"y2test.csv\", delimiter=\",\").T"
   ]
  },
  {
   "cell_type": "code",
   "execution_count": 367,
   "id": "cfc766fb-7821-40eb-a020-4d196314e6a6",
   "metadata": {},
   "outputs": [
    {
     "name": "stdout",
     "output_type": "stream",
     "text": [
      "Shape X Train: (45, 50)\n",
      "Shape Y Train: (10, 50)\n",
      "Shape X Train: (45, 30)\n",
      "Shape Y Train: (10, 30)\n"
     ]
    }
   ],
   "source": [
    "#Print the shape of the training and testing sets\n",
    "print(\"Shape X Train:\", X_train.shape)\n",
    "print(\"Shape Y Train:\", Y_train.shape)\n",
    "print(\"Shape X Train:\", X_test.shape)\n",
    "print(\"Shape Y Train:\", Y_test.shape)"
   ]
  },
  {
   "cell_type": "code",
   "execution_count": 368,
   "id": "b882e17b-bd89-40aa-a61a-9631bbfd460b",
   "metadata": {},
   "outputs": [
    {
     "data": {
      "image/png": "[encoded data removed]",
      "text/plain": [
       "<Figure size 432x288 with 1 Axes>"
      ]
     },
     "metadata": {
      "needs_background": "light"
     },
     "output_type": "display_data"
    }
   ],
   "source": [
    "#Show a random image from the training data set\n",
    "index = random.randrange(0,X_train.shape[1])\n",
    "plt.imshow(X_train[:, index].reshape(9,5))\n",
    "plt.show()"
   ]
  },
  {
   "cell_type": "code",
   "execution_count": 369,
   "id": "a628e618-1750-48fe-884a-8d37f7392dab",
   "metadata": {},
   "outputs": [],
   "source": [
    "# Define sigmoid for input activation, cross entropy for output activation and sigmoid derivative for back propogation\n",
    "\n",
    "def sigmoid(x):\n",
    "    sigmoid = 1.0/(1+ np.exp(-x))\n",
    "    return sigmoid\n",
    "\n",
    "def softmax(x):\n",
    "    return np.exp(x) / np.sum(np.exp(x), axis=0)\n",
    "\n",
    "def sigmoid_derivative(x):\n",
    "    derivative = sigmoid(x)*(1 - sigmoid(x))\n",
    "    return derivative"
   ]
  },
  {
   "cell_type": "code",
   "execution_count": 370,
   "id": "e6a25d78-7ee8-426e-8b83-a0dce25c6dcd",
   "metadata": {},
   "outputs": [],
   "source": [
    "#Initialize Parameters\n",
    "def initialize(inputs, hidden, outputs):\n",
    "    weight1 = np.random.randn(hidden, inputs)\n",
    "    bias1 = np.zeros((hidden, 1))\n",
    "    \n",
    "    weight2 = np.random.randn(outputs, hidden)\n",
    "    bias2 = np.zeros((outputs, 1))\n",
    "\n",
    "    weightsAndBiases = {\n",
    "        \"weight1\" : weight1,\n",
    "        \"bias1\" : bias1,\n",
    "        \"weight2\" : weight2,\n",
    "        \"bias2\" : bias2\n",
    "    }\n",
    "    \n",
    "    return weightsAndBiases"
   ]
  },
  {
   "cell_type": "code",
   "execution_count": 371,
   "id": "64d78ea4-c8f8-4a97-b631-abbb15050a2e",
   "metadata": {},
   "outputs": [],
   "source": [
    "#Forward propogation of weights and biases\n",
    "def fpropogate(x, weightsAndBiases):\n",
    "    weight1 = weightsAndBiases[\"weight1\"]\n",
    "    bias1 = weightsAndBiases[\"bias1\"]\n",
    "    weight2 = weightsAndBiases[\"weight2\"]\n",
    "    bias2 = weightsAndBiases[\"bias2\"]\n",
    "    \n",
    "    out1 = np.dot(weight1, x) + bias1\n",
    "    activation1 = sigmoid(out1)\n",
    "    \n",
    "    out2 = np.dot(weight2, activation1) + bias2\n",
    "    activation2 = softmax(out2)\n",
    "    \n",
    "    forwardSet = {\n",
    "        \"out1\" : out1,\n",
    "        \"activation1\" : activation1,\n",
    "        \"out2\" : out2,\n",
    "        \"activation2\" : activation2\n",
    "    }\n",
    "    return forwardSet"
   ]
  },
  {
   "cell_type": "code",
   "execution_count": 372,
   "id": "0a219bdd-e999-4bcc-9a5c-5f5ab3dfe924",
   "metadata": {},
   "outputs": [],
   "source": [
    "#Cross entropy cost function\n",
    "def crossEntropyCostFunction(activation2, y):\n",
    "    numOfTests = y.shape[1]\n",
    "    \n",
    "    cost = -(1/numOfTests)*np.sum(y*np.log(activation2))\n",
    "    \n",
    "    return cost"
   ]
  },
  {
   "cell_type": "code",
   "execution_count": 373,
   "id": "d78dfdc8-df60-4eea-a0f9-a56bcc64deab",
   "metadata": {},
   "outputs": [],
   "source": [
    "#Back propogation \n",
    "def bpropogate(x, y, weightsAndBiases, forwardSet):\n",
    "    \n",
    "    weight1 = weightsAndBiases[\"weight1\"]\n",
    "    bias1 = weightsAndBiases[\"bias1\"]\n",
    "    weight2 = weightsAndBiases[\"weight2\"]\n",
    "    bias2 = weightsAndBiases[\"bias2\"]\n",
    "    \n",
    "    activation1 = forwardSet[\"activation1\"]\n",
    "    activation2 = forwardSet[\"activation2\"]\n",
    "    \n",
    "    numOfImages = x.shape[1]\n",
    "    \n",
    "    error2 = activation2 - y\n",
    "    trainedWeight2 = (1/numOfImages)*np.dot(error2, activation1.T)\n",
    "    trainedBias2 = (1/numOfImages)*np.sum(error2, axis=1, keepdims=True)\n",
    "    \n",
    "    error1 = (1/numOfImages)*np.dot(weight2.T, error2)*sigmoid_derivative(activation1)\n",
    "    trainedWeight1 = (1/numOfImages)*np.dot(error1, x.T)\n",
    "    trainedBias1 = (1/numOfImages)*np.sum(error1, axis=1, keepdims=True)\n",
    "    \n",
    "    gradient = {\n",
    "        \"trainedWeight1\" : trainedWeight1,\n",
    "        \"trainedBias1\" : trainedBias1,\n",
    "        \"trainedWeight2\" : trainedWeight2,\n",
    "        \"trainedBias2\" : trainedBias2\n",
    "    }\n",
    "    \n",
    "    return gradient"
   ]
  },
  {
   "cell_type": "code",
   "execution_count": 374,
   "id": "3d960713-da88-447b-8a89-61493a750cac",
   "metadata": {},
   "outputs": [],
   "source": [
    "#Update weights and bias for next iteration based on learning rate\n",
    "def updateWeightandBiases(weightsAndBiases, gradient, learningRate):\n",
    "    weight1 = weightsAndBiases[\"weight1\"]\n",
    "    bias1 = weightsAndBiases[\"bias1\"]\n",
    "    weight2 = weightsAndBiases[\"weight2\"]\n",
    "    bias2 = weightsAndBiases[\"bias2\"]\n",
    "    \n",
    "    trainedWeight1 = gradient[\"trainedWeight1\"]\n",
    "    trainedBias1 = gradient[\"trainedBias1\"]\n",
    "    trainedWeight2 = gradient[\"trainedWeight2\"] \n",
    "    trainedBias2 = gradient[\"trainedBias2\"]\n",
    "    \n",
    "    updatedWeight1 = weight1 - learningRate*trainedWeight1\n",
    "    updatedBias1 = bias1 - learningRate*trainedBias1\n",
    "    updatedWeight2 = weight2 - learningRate*trainedWeight2\n",
    "    updatedBias2 = bias2 - learningRate*trainedBias2\n",
    "    \n",
    "    updatedWB = {\n",
    "        \"weight1\" : updatedWeight1,\n",
    "        \"bias1\" : updatedBias1,\n",
    "        \"weight2\" : updatedWeight2,\n",
    "        \"bias2\" : updatedBias2,\n",
    "    }\n",
    "    return updatedWB"
   ]
  },
  {
   "cell_type": "code",
   "execution_count": 375,
   "id": "682c0f86-2c34-4220-b967-0b07f22d10d4",
   "metadata": {},
   "outputs": [],
   "source": [
    "#Full ANN model code\n",
    "def annModel(x, y, hidden, learningRate, epochs):\n",
    "    \n",
    "    numOfPixels = x.shape[0]\n",
    "    numOfClasses = y.shape[0]\n",
    "    \n",
    "    costValues = []\n",
    "    \n",
    "    weightsAndBiases = initialize(numOfPixels, hidden, numOfClasses)\n",
    "    \n",
    "    for i in range(epochs):\n",
    "        \n",
    "        forwardSet = fpropogate(x, weightsAndBiases)\n",
    "        \n",
    "        cost = crossEntropyCostFunction(forwardSet['activation2'], y)\n",
    "        \n",
    "        gradient = bpropogate(x, y, weightsAndBiases, forwardSet)\n",
    "        \n",
    "        weightsAndBiases = updateWeightandBiases(weightsAndBiases, gradient, learningRate)\n",
    "        \n",
    "        costValues.append(cost)\n",
    "        \n",
    "    return weightsAndBiases, costValues"
   ]
  },
  {
   "cell_type": "code",
   "execution_count": 376,
   "id": "8974d230-c060-445d-9eb7-54c8aab43e55",
   "metadata": {},
   "outputs": [],
   "source": [
    "#Run the ANN Model\n",
    "epochs = 500000\n",
    "hidden = 5\n",
    "learningRate = 0.05\n",
    "\n",
    "weightsAndBiases, costValues = annModel(X_train, Y_train, hidden, learningRate, epochs)"
   ]
  },
  {
   "cell_type": "code",
   "execution_count": 377,
   "id": "f0587a8b-2fd4-447a-a3af-fde1f444457a",
   "metadata": {},
   "outputs": [
    {
     "data": {
      "image/png": "[encoded data removed]",
      "text/plain": [
       "<Figure size 432x288 with 1 Axes>"
      ]
     },
     "metadata": {
      "needs_background": "light"
     },
     "output_type": "display_data"
    }
   ],
   "source": [
    "#Cost Values vs Epochs\n",
    "c = np.arange(0, epochs)\n",
    "plt.title(\"Cross Entropy Cost vs Epochs\") \n",
    "plt.xlabel(\"Epochs\")\n",
    "plt.ylabel(\"Cost\")\n",
    "plt.plot(c, costValues)\n",
    "plt.show()"
   ]
  },
  {
   "cell_type": "code",
   "execution_count": 378,
   "id": "c4681a87-7649-4fda-a4b4-54472a7707f6",
   "metadata": {},
   "outputs": [],
   "source": [
    "def accuracy(x, classes, weightsAndBiases):\n",
    "    forwardSet = fpropogate(x, weightsAndBiases)\n",
    "    \n",
    "    activation2 = forwardSet['activation2']\n",
    "    activation2 = np.argmax(activation2, 0)\n",
    "    \n",
    "    classes = np.argmax(classes, 0)\n",
    "    \n",
    "    return np.mean(activation2 == classes)*100"
   ]
  },
  {
   "cell_type": "code",
   "execution_count": 379,
   "id": "18d8c9a9-ee27-4d67-a007-2f9778d1b59a",
   "metadata": {},
   "outputs": [
    {
     "name": "stdout",
     "output_type": "stream",
     "text": [
      "Accuracy of Train Dataset 100.0 %\n",
      "Accuracy of Test Dataset 80.0 %\n"
     ]
    }
   ],
   "source": [
    "print(\"Accuracy of Train Dataset\", accuracy(X_train, Y_train, weightsAndBiases), \"%\")\n",
    "print(\"Accuracy of Test Dataset\", round(accuracy(X_test, Y_test, weightsAndBiases), 2), \"%\")"
   ]
  },
  {
   "cell_type": "code",
   "execution_count": 380,
   "id": "c685ddb3-3be0-4a7f-9e4c-0c411a082e8f",
   "metadata": {},
   "outputs": [
    {
     "name": "stdout",
     "output_type": "stream",
     "text": [
      "Accuracy of Test Dataset 100.0 %\n"
     ]
    }
   ],
   "source": [
    "#Create Case to test the pure digits\n",
    "print(\"Accuracy of Test Dataset\", round(accuracy(X2_test, Y2_test, weightsAndBiases), 2), \"%\")"
   ]
  }
 ],
 "metadata": {
  "kernelspec": {
   "display_name": "Python 3 (ipykernel)",
   "language": "python",
   "name": "python3"
  },
  "language_info": {
   "codemirror_mode": {
    "name": "ipython",
    "version": 3
   },
   "file_extension": ".py",
   "mimetype": "text/x-python",
   "name": "python",
   "nbconvert_exporter": "python",
   "pygments_lexer": "ipython3",
   "version": "3.10.4"
  }
 },
 "nbformat": 4,
 "nbformat_minor": 5
}
